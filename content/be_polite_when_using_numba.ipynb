{
 "cells": [
  {
   "cell_type": "markdown",
   "metadata": {},
   "source": [
    "## An Identity Decorator\n",
    "\n",
    "An identity [docorator](http://en.wikipedia.org/wiki/Python_syntax_and_semantics#Decorators). does nothing. Decorate a function with it, and you have the original function. It copes with both parentheses-less application and arbitrary arguments, named or otherwise. Python is my primary language for data analysis. But, I don't know its guts the way I know other languages. I assume there is a better implementation. If you have one, please let me know."
   ]
  },
  {
   "cell_type": "code",
   "execution_count": 1,
   "metadata": {
    "collapsed": true
   },
   "outputs": [],
   "source": [
    "def identity_decorator(*args, **kwargs):\n",
    "    if len(args) == 1 and hasattr(args[0], '__call__'):\n",
    "        return args[0]  # Parentheses-less application\n",
    "    else:\n",
    "        def _f(f):  # Parameterized application\n",
    "            return f\n",
    "        return _f"
   ]
  },
  {
   "cell_type": "markdown",
   "metadata": {},
   "source": [
    "### See it in action"
   ]
  },
  {
   "cell_type": "code",
   "execution_count": 2,
   "metadata": {
    "collapsed": false
   },
   "outputs": [
    {
     "data": {
      "text/plain": [
       "<function __main__.say>"
      ]
     },
     "execution_count": 2,
     "metadata": {},
     "output_type": "execute_result"
    }
   ],
   "source": [
    "@identity_decorator\n",
    "def say(s):\n",
    "    print s\n",
    "say"
   ]
  },
  {
   "cell_type": "code",
   "execution_count": 3,
   "metadata": {
    "collapsed": false
   },
   "outputs": [
    {
     "name": "stdout",
     "output_type": "stream",
     "text": [
      "Hello\n"
     ]
    }
   ],
   "source": [
    "say(\"Hello\")"
   ]
  },
  {
   "cell_type": "code",
   "execution_count": 4,
   "metadata": {
    "collapsed": false
   },
   "outputs": [
    {
     "data": {
      "text/plain": [
       "<function __main__.say_hello>"
      ]
     },
     "execution_count": 4,
     "metadata": {},
     "output_type": "execute_result"
    }
   ],
   "source": [
    "@identity_decorator(10)\n",
    "def say_hello(name):\n",
    "    print \"Hello, {}\".format(name)\n",
    "say_hello"
   ]
  },
  {
   "cell_type": "code",
   "execution_count": 5,
   "metadata": {
    "collapsed": false
   },
   "outputs": [
    {
     "name": "stdout",
     "output_type": "stream",
     "text": [
      "Hello, World\n"
     ]
    }
   ],
   "source": [
    "say_hello('World')"
   ]
  },
  {
   "cell_type": "code",
   "execution_count": 6,
   "metadata": {
    "collapsed": false
   },
   "outputs": [],
   "source": [
    "@identity_decorator('this', 'is', name=20)\n",
    "def kitchen_sink(word, kw=20):\n",
    "    print \"{} {}\".format(word, kw)"
   ]
  },
  {
   "cell_type": "code",
   "execution_count": 7,
   "metadata": {
    "collapsed": false
   },
   "outputs": [
    {
     "data": {
      "text/plain": [
       "<function __main__.kitchen_sink>"
      ]
     },
     "execution_count": 7,
     "metadata": {},
     "output_type": "execute_result"
    }
   ],
   "source": [
    "kitchen_sink"
   ]
  },
  {
   "cell_type": "code",
   "execution_count": 8,
   "metadata": {
    "collapsed": false
   },
   "outputs": [
    {
     "name": "stdout",
     "output_type": "stream",
     "text": [
      "Frankie Says relax\n"
     ]
    }
   ],
   "source": [
    "kitchen_sink('Frankie Says', 'relax')"
   ]
  },
  {
   "cell_type": "markdown",
   "metadata": {},
   "source": [
    "## Identity Decorators and Numba"
   ]
  },
  {
   "cell_type": "markdown",
   "metadata": {},
   "source": [
    "[Numba](http://numba.pydata.org/) \"gives you the power to speed up your applications with high performance functions written directly in Python.\" It provides [JIT compilation](http://en.wikipedia.org/wiki/Just-in-time_compilation). For scientific work, that's often nessessary. But, when sharing your code, it's rude to say, \"you have to use [Conda](http://continuum.io/downloads).\" In Continuum Analytics' defense, they provide instructions for [installing numba](https://github.com/numba/numba#custom-python-environments) to custom (i.e. [standard](https://www.python.org/)) Python distributions. And, in my experience, people who work in [computational social science](http://en.wikipedia.org/wiki/Computational_social_science) -- my field -- have an aversion to compiling their own packages. So, anaconda is widely-used. Still, its not universal. Graceful degradation is polite. Dependency hell is...well, hellish.\n",
    "\n",
    "This snippet of code allows you to use Numba conditional upon its existence. It's limited to `jit` and `autojit`. "
   ]
  },
  {
   "cell_type": "code",
   "execution_count": 9,
   "metadata": {
    "collapsed": false
   },
   "outputs": [],
   "source": [
    "try:\n",
    "    from numba import jit, autojit\n",
    "except ImportError:\n",
    "    def identity_decorator(*args, **kwargs):\n",
    "        if len(args) == 1 and hasattr(args[0], '__call__'):\n",
    "            return args[0]  # Parentheses-less application\n",
    "        else:\n",
    "            def _f(f):  # Parameterized application\n",
    "                return f\n",
    "            return _f\n",
    "    jit = identity_decorator\n",
    "    autojit = identity_decorator"
   ]
  }
 ],
 "metadata": {
  "kernelspec": {
   "display_name": "Python 2",
   "language": "python",
   "name": "python2"
  },
  "language_info": {
   "codemirror_mode": {
    "name": "ipython",
    "version": 2
   },
   "file_extension": ".py",
   "mimetype": "text/x-python",
   "name": "python",
   "nbconvert_exporter": "python",
   "pygments_lexer": "ipython2",
   "version": "2.7.9"
  }
 },
 "nbformat": 4,
 "nbformat_minor": 0
}
