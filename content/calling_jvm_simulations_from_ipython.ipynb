{
 "metadata": {
  "name": "",
  "signature": "sha256:e5aeb976d7f093d4755b00c0ebcd55730ca2fc51483a5fd13dfba13121635ac4"
 },
 "nbformat": 3,
 "nbformat_minor": 0,
 "worksheets": [
  {
   "cells": [
    {
     "cell_type": "markdown",
     "metadata": {},
     "source": [
      "Connecting Python to Java\n",
      "===\n",
      "I remember seeing my friend [David's](https://twitter.com/badnetworker) [post](http://davidmasad.com/blog/netlogo-from-python/) and [notebook](http://nbviewer.ipython.org/github/dmasad/Py2NetLogo/blob/master/NetLogo%20Connection.ipynb) on using calling Java from Python using [py4j](http://py4j.sourceforge.net/). For the most part, Python is too slow for the simulations I build. And, the simulations are complex enough that writing them in C and binding them to Python would be error-prone. I want a high-level language that is fast enough; but, I want to explore it through [IPython](http://ipython.org/). My high-level/fast-enough language of choice is Scala. Since [IScala](https://github.com/mattpap/IScala) proved buggy (but promising!), I decided to follow David's lead. \n",
      "\n",
      "After walking through his tutorial, I realized I didn't like py4j. There is too much friction in setting up gateways. So, I gave [pyjnius](https://pyjnius.readthedocs.org/en/latest/) a try. \n",
      "\n",
      "TLDR: **Pyjnius is useful**."
     ]
    },
    {
     "cell_type": "markdown",
     "metadata": {},
     "source": [
      "## Replicating David's Tutorial\n",
      "\n",
      "You may want to check out [his post](http://davidmasad.com/blog/netlogo-from-python/) for some context. Succinctly, he is calling [Netlogo](https://ccl.northwestern.edu/netlogo/) from an IPython notebook. Here, I translate his py4j code into pyjnius."
     ]
    },
    {
     "cell_type": "code",
     "collapsed": false,
     "input": [
      "# Just some imports and constant definitions. \n",
      "# Nothing to see here.\n",
      "\n",
      "import os\n",
      "import matplotlib.pyplot as plt\n",
      "import seaborn as sns\n",
      "\n",
      "NETLOGO_BASE = '/Applications/NetLogo 5.2/'\n",
      "NETLOGO_JAR = os.path.join(NETLOGO_BASE, 'NetLogo.jar')\n",
      "MODELS_DIR = os.path.join(NETLOGO_BASE, 'models', 'Sample Models')\n",
      "FIRE_MODEL = os.path.join(MODELS_DIR, 'Earth Science', 'Fire.nlogo')\n",
      "\n",
      "%matplotlib inline"
     ],
     "language": "python",
     "metadata": {},
     "outputs": [],
     "prompt_number": 1
    },
    {
     "cell_type": "markdown",
     "metadata": {},
     "source": [
      "### Setting up the JVM\n",
      "\n",
      "Unless you are running the IPython notebook in the same directory as your jar file, you will want to [setup up the class path](https://pyjnius.readthedocs.org/en/latest/api.html#jvm-options-and-the-class-path). To run a NetLogo model, we need `NetLogo.jar`.\n",
      "\n",
      "I also set a (esoteric to me) JVM switch. Without this switch, the script will hang on `HeadlessWorkspace.newInstance()`. I'm not exactly sure why, but it [seems to be an issue with awt](https://github.com/kivy/pyjnius/issues/151). \n",
      "\n",
      "Note: **You must call jnius_config before importing jnius**. You (obviously) cannot change JVM parameters after you launch it."
     ]
    },
    {
     "cell_type": "code",
     "collapsed": false,
     "input": [
      "import jnius_config\n",
      "jnius_config.set_classpath(NETLOGO_JAR)\n",
      "jnius_config.add_options('-Djava.awt.headless=true')\n",
      "from jnius import autoclass"
     ],
     "language": "python",
     "metadata": {},
     "outputs": [],
     "prompt_number": 2
    },
    {
     "cell_type": "markdown",
     "metadata": {},
     "source": [
      "### Playing with (Forest) Fire\n",
      "\n",
      "The `autoclass` function uses reflection to create a proxy object to the underlying java class. It can be called just like a Python class. It also will recursively reflect where needed (e.g. return types). Here, I create a new [HeadlessWorkspace](http://ccl.northwestern.edu/netlogo/docs/scaladoc/org/nlogo/headless/HeadlessWorkspace.html)."
     ]
    },
    {
     "cell_type": "code",
     "collapsed": false,
     "input": [
      "HeadlessWorkspace = autoclass('org.nlogo.headless.HeadlessWorkspace')\n",
      "workspace = HeadlessWorkspace.newInstance()"
     ],
     "language": "python",
     "metadata": {},
     "outputs": [],
     "prompt_number": 3
    },
    {
     "cell_type": "markdown",
     "metadata": {},
     "source": [
      "Now, following David's lead, I open the forest fire model, and set up some initial parameters. "
     ]
    },
    {
     "cell_type": "code",
     "collapsed": false,
     "input": [
      "workspace.open(FIRE_MODEL)\n",
      "workspace.command(\"set density 62\")\n",
      "workspace.command(\"random-seed 0\")\n",
      "workspace.command(\"setup\")\n",
      "workspace.command(\"repeat 50 [go]\")"
     ],
     "language": "python",
     "metadata": {},
     "outputs": [],
     "prompt_number": 4
    },
    {
     "cell_type": "markdown",
     "metadata": {},
     "source": [
      "I'm now ready to run the model. Looking at David's code, I see that, conditional upon these parameters, 4,256 trees should burn. NetLogo strives to provide easy replication. My run should also burn 4,256 trees."
     ]
    },
    {
     "cell_type": "code",
     "collapsed": false,
     "input": [
      "assert workspace.report(\"burned-trees\") == 4256, \"Replication Failed\""
     ],
     "language": "python",
     "metadata": {},
     "outputs": [],
     "prompt_number": 5
    },
    {
     "cell_type": "markdown",
     "metadata": {},
     "source": [
      "### Imitation is the sincerest form of flattery\n",
      "\n",
      "The following `run_model` function is almost an exact copy of David's. The only difference is that I am calling a reflectively created workspace object instead of a py4j Bridge."
     ]
    },
    {
     "cell_type": "code",
     "collapsed": false,
     "input": [
      "def run_model(workspace, density, steps):\n",
      "    '''\n",
      "    Run the forest fire model, and return the number of trees burned.\n",
      "     \n",
      "    Args:\n",
      "        workspace: The HeadlessWorkspace object\n",
      "        density: Integer density percent, from 0 to 100\n",
      "        steps: How many steps to run \n",
      "     \n",
      "    Returns:\n",
      "        The number of trees burned, as a float.\n",
      "    '''\n",
      "    workspace.command(\"set density \" + str(density))\n",
      "    workspace.command(\"setup\")\n",
      "    workspace.command(\"repeat \" + str(steps) + \" [go]\")\n",
      "    return workspace.report(\"burned-trees\")"
     ],
     "language": "python",
     "metadata": {},
     "outputs": [],
     "prompt_number": 6
    },
    {
     "cell_type": "markdown",
     "metadata": {},
     "source": [
      "Looking at my plot and his, they are identical. (Although, I used [Seaborn](http://stanford.edu/~mwaskom/software/seaborn/), just because it's a beautiful library that I want to draw attention to...)"
     ]
    },
    {
     "cell_type": "code",
     "collapsed": false,
     "input": [
      "burned_trees = [run_model(workspace, i, 100) for i in range(0,100)]\n",
      "sns.tsplot(burned_trees)\n",
      "plt.title('Param Sweep of Forest Fire Model')\n",
      "plt.xlabel('% Density')\n",
      "plt.ylabel('% of Trees Burned');"
     ],
     "language": "python",
     "metadata": {},
     "outputs": [
      {
       "metadata": {},
       "output_type": "display_data",
       "png": "[encoded data removed]",
       "text": [
        "<matplotlib.figure.Figure at 0x10bc06a90>"
       ]
      }
     ],
     "prompt_number": 7
    },
    {
     "cell_type": "markdown",
     "metadata": {},
     "source": [
      "# Conclusion\n",
      "\n",
      "This is pretty much exactly what I want in an interface to Java/Scala. I can now call my models without relying upon my old method of using [zmq](http://zeromq.org/). It is essentially friction-less. I'm sure I'll encounter problems interfacing to Scala at some point. I'll document them as they arise. For now, consider this a \"Hello, pyjnius! Nice to meet you!\" post. "
     ]
    }
   ],
   "metadata": {}
  }
 ]
}